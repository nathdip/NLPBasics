{
 "cells": [
  {
   "cell_type": "code",
   "execution_count": 2,
   "metadata": {},
   "outputs": [],
   "source": [
    "import spacy"
   ]
  },
  {
   "cell_type": "code",
   "execution_count": 3,
   "metadata": {},
   "outputs": [],
   "source": [
    "nlp = spacy.load('en_core_web_sm')"
   ]
  },
  {
   "cell_type": "code",
   "execution_count": 4,
   "metadata": {},
   "outputs": [],
   "source": [
    "doc1 = nlp(u\"I am a runner running in a race because I love to run since I ran today\")"
   ]
  },
  {
   "cell_type": "code",
   "execution_count": 5,
   "metadata": {},
   "outputs": [
    {
     "name": "stdout",
     "output_type": "stream",
     "text": [
      "I \t PRON \t 561228191312463089 \t -PRON-\n",
      "am \t VERB \t 10382539506755952630 \t be\n",
      "a \t DET \t 11901859001352538922 \t a\n",
      "runner \t NOUN \t 12640964157389618806 \t runner\n",
      "running \t VERB \t 12767647472892411841 \t run\n",
      "in \t ADP \t 3002984154512732771 \t in\n",
      "a \t DET \t 11901859001352538922 \t a\n",
      "race \t NOUN \t 8048469955494714898 \t race\n",
      "because \t ADP \t 16950148841647037698 \t because\n",
      "I \t PRON \t 561228191312463089 \t -PRON-\n",
      "love \t VERB \t 3702023516439754181 \t love\n",
      "to \t PART \t 3791531372978436496 \t to\n",
      "run \t VERB \t 12767647472892411841 \t run\n",
      "since \t ADP \t 10066841407251338481 \t since\n",
      "I \t PRON \t 561228191312463089 \t -PRON-\n",
      "ran \t VERB \t 12767647472892411841 \t run\n",
      "today \t NOUN \t 11042482332948150395 \t today\n"
     ]
    }
   ],
   "source": [
    "for token in doc1:\n",
    "    print(token.text, '\\t', token.pos_, '\\t', token.lemma, '\\t', token.lemma_)"
   ]
  },
  {
   "cell_type": "markdown",
   "metadata": {},
   "source": [
    "As you can see run, running, ran will be attributed to the lemma 'run'"
   ]
  },
  {
   "cell_type": "code",
   "execution_count": 6,
   "metadata": {},
   "outputs": [],
   "source": [
    "def show_lemmas(text):\n",
    "    for token in text:\n",
    "        print(f\"{token.text:{12}} {token.pos_:{6}} {token.lemma:<{22}} {token.lemma_:{10}}\")"
   ]
  },
  {
   "cell_type": "code",
   "execution_count": 7,
   "metadata": {},
   "outputs": [
    {
     "name": "stdout",
     "output_type": "stream",
     "text": [
      "I            PRON   561228191312463089     -PRON-    \n",
      "am           VERB   10382539506755952630   be        \n",
      "a            DET    11901859001352538922   a         \n",
      "runner       NOUN   12640964157389618806   runner    \n",
      "running      VERB   12767647472892411841   run       \n",
      "in           ADP    3002984154512732771    in        \n",
      "a            DET    11901859001352538922   a         \n",
      "race         NOUN   8048469955494714898    race      \n",
      "because      ADP    16950148841647037698   because   \n",
      "I            PRON   561228191312463089     -PRON-    \n",
      "love         VERB   3702023516439754181    love      \n",
      "to           PART   3791531372978436496    to        \n",
      "run          VERB   12767647472892411841   run       \n",
      "since        ADP    10066841407251338481   since     \n",
      "I            PRON   561228191312463089     -PRON-    \n",
      "ran          VERB   12767647472892411841   run       \n",
      "today        NOUN   11042482332948150395   today     \n"
     ]
    }
   ],
   "source": [
    "show_lemmas(doc1)"
   ]
  },
  {
   "cell_type": "markdown",
   "metadata": {},
   "source": [
    "### Stop Words\n",
    " Words like 'a', 'the' are example of stop words and need not be there"
   ]
  },
  {
   "cell_type": "code",
   "execution_count": 9,
   "metadata": {},
   "outputs": [
    {
     "name": "stdout",
     "output_type": "stream",
     "text": [
      "{'she', 'through', 'used', 'before', 'mine', 'two', 'four', 'ten', 'was', 'he', 'you', 'from', 'throughout', 'by', 'whether', 'will', 'and', 'amount', 'each', 'empty', 'nowhere', 'whereupon', 'although', 'besides', 'few', 'thus', 'since', 'we', 'what', 'show', 'five', 'such', 'most', 'where', 'all', 'cannot', 'has', 'with', 'that', 'nevertheless', 'yet', 'after', 'any', 'however', 'less', 'nine', 'except', 'does', 'hereafter', 'twelve', 'some', 'made', 'else', 'give', 'moreover', 'between', 'there', 'quite', 'least', 'doing', 'the', 'beside', 'out', 'too', 'go', 'this', 'thereafter', 'whatever', 'everyone', 'elsewhere', 'seeming', 'who', 'about', 'afterwards', 'another', 'others', 'together', 'seemed', 'me', 'so', 'over', 'enough', 'been', 'forty', 'former', 'everything', 'sixty', 'move', 'somehow', 'anyhow', 'part', 'hence', 'see', 'no', 'they', 'of', 'back', 'top', 'though', 'fifteen', 'really', 'could', 'via', 'whereby', 'if', 'during', 'none', 'did', 'under', 'more', 'thereupon', 'say', 'but', 'its', 'had', 'around', 'both', 'never', 'is', 'almost', 'done', 'something', 'your', 'are', 'toward', 'take', 'it', 'noone', 'when', 'indeed', 'put', 'might', 'whereafter', 'be', 'only', 'one', 'three', 'make', 'using', 'yourself', 'further', 'very', 'seem', 'six', 'itself', 'everywhere', 'than', 'namely', 'above', 'myself', 'formerly', 'much', 'at', 'become', 'upon', 'down', 'were', 'on', 'whereas', 'or', 'last', 'became', 'whither', 'own', 'seems', 'us', 'ourselves', 'hers', 'sometime', 'just', 'off', 'in', 'whose', 'wherever', 'thence', 'well', 'an', 'them', 'him', 'due', 'mostly', 'below', 'call', 'side', 'several', 'not', 'per', 'somewhere', 'themselves', 'herself', 'their', 'those', 'towards', 'amongst', 'how', 'which', 'otherwise', 'must', 'whence', 'along', 'whole', 'many', 'across', 'first', 'have', 'as', 'whoever', 'her', 'these', 'always', 'without', 'serious', 'rather', 'latter', 'against', 'anywhere', 'eight', 'keep', 'next', 'hundred', 'once', 'ours', 'my', 'get', 'therein', 'being', 'do', 'ever', 'his', 'up', 'nobody', 'hereupon', 'among', 'onto', 'therefore', 'even', 'name', 'then', 'sometimes', 'thru', 'various', 'third', 'can', 'still', 'here', 'yourselves', 'herein', 'regarding', 'beyond', 'fifty', 'someone', 'please', 'i', 'twenty', 'whenever', 'whom', 'unless', 'thereby', 'anything', 'eleven', 'a', 'meanwhile', 'becoming', 'latterly', 'nor', 'often', 'becomes', 'now', 'may', 'perhaps', 'within', 'beforehand', 'should', 'ca', 'same', 'front', 'yours', 'wherein', 'again', 'anyway', 'into', 'hereby', 'for', 'himself', 'bottom', 'our', 'why', 'to', 'behind', 'while', 'neither', 'also', 'already', 'full', 'alone', 'would', 'am', 're', 'every', 'until', 'nothing', 'because', 'other', 'anyone', 'either'}\n"
     ]
    }
   ],
   "source": [
    "print(nlp.Defaults.stop_words)"
   ]
  },
  {
   "cell_type": "code",
   "execution_count": 10,
   "metadata": {},
   "outputs": [
    {
     "data": {
      "text/plain": [
       "False"
      ]
     },
     "execution_count": 10,
     "metadata": {},
     "output_type": "execute_result"
    }
   ],
   "source": [
    "nlp.vocab['mystery'].is_stop"
   ]
  },
  {
   "cell_type": "code",
   "execution_count": 11,
   "metadata": {},
   "outputs": [],
   "source": [
    "#Add stop words\n",
    "nlp.Defaults.stop_words.add('btw')"
   ]
  },
  {
   "cell_type": "code",
   "execution_count": 12,
   "metadata": {},
   "outputs": [],
   "source": [
    "nlp.vocab['btw'].is_stop = True"
   ]
  },
  {
   "cell_type": "code",
   "execution_count": 13,
   "metadata": {},
   "outputs": [],
   "source": [
    "nlp.vocab['btw'].is_stop = True"
   ]
  },
  {
   "cell_type": "code",
   "execution_count": 14,
   "metadata": {},
   "outputs": [
    {
     "data": {
      "text/plain": [
       "True"
      ]
     },
     "execution_count": 14,
     "metadata": {},
     "output_type": "execute_result"
    }
   ],
   "source": [
    "nlp.vocab['btw'].is_stop"
   ]
  },
  {
   "cell_type": "code",
   "execution_count": null,
   "metadata": {},
   "outputs": [],
   "source": []
  }
 ],
 "metadata": {
  "kernelspec": {
   "display_name": "Python 3",
   "language": "python",
   "name": "python3"
  },
  "language_info": {
   "codemirror_mode": {
    "name": "ipython",
    "version": 3
   },
   "file_extension": ".py",
   "mimetype": "text/x-python",
   "name": "python",
   "nbconvert_exporter": "python",
   "pygments_lexer": "ipython3",
   "version": "3.6.5"
  }
 },
 "nbformat": 4,
 "nbformat_minor": 2
}
